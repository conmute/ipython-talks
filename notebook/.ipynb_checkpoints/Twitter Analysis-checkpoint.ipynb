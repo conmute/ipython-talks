{
 "cells": [
  {
   "cell_type": "markdown",
   "metadata": {},
   "source": [
    "# Analysis of Twitter stream data with the IPython Notebook"
   ]
  },
  {
   "cell_type": "markdown",
   "metadata": {},
   "source": [
    "In this example, we use the IPython notebook to mine data from Twitter with the [Twython library](https://github.com/ryanmcgrath/twython).  Once we have fetched the raw stream for a specific query, we will at first do some basic word frequency analysis on the results using Python's builtin dictionaries, and then we will use the excellent [NetworkX](http://networkx.lanl.gov) library developed at Los Alamos National Laboratory to look at the results as a network and understand some of its properties.  \n",
    "\n",
    "Using NetworkX, we aim to answer the following questions: for a given query, which words tend to appear together in tweets, and global pattern of relationships between these words emerges from the entire set of results?\n",
    "\n",
    "Obviously the analysis of text corpora of this kind is a complex topic at the intersection of natural language processing, graph theory and statistics, and here we do not pretend to provide an exhaustive coverage of it.  Rather, we want to show you how with a small amount of easy to write code, it is possible to do a few non-trivial things based on real-time data from the Twitter stream.  Hopefully this will serve as a good starting point;  for further reading you can find in-depth discussions of analysing social network data in Python in the book [Mining the Social Web](http://shop.oreilly.com/product/0636920010203.do)."
   ]
  },
  {
   "cell_type": "markdown",
   "metadata": {},
   "source": [
    "## Initialization and libraries"
   ]
  },
  {
   "cell_type": "markdown",
   "metadata": {},
   "source": [
    "We start by loading the pylab plot support and selecting our figure size to be a bit different than the automatic defaults."
   ]
  },
  {
   "cell_type": "code",
   "execution_count": 1,
   "metadata": {
    "collapsed": false
   },
   "outputs": [
    {
     "name": "stdout",
     "output_type": "stream",
     "text": [
      "Populating the interactive namespace from numpy and matplotlib\n"
     ]
    }
   ],
   "source": [
    "%pylab inline\n",
    "\n",
    "# Рішення для кирилиці, правильний шрифт котрий підтримує її:\n",
    "font = {'family': 'Verdana',\n",
    "        'weight': 'normal'}\n",
    "plt.rc('font', **font)\n",
    "\n",
    "plt.rc('figure', figsize=(8, 5))\n",
    "import networkx as nx"
   ]
  },
  {
   "cell_type": "markdown",
   "metadata": {},
   "source": [
    "Now, we load a local library with some analysis utilities whose code is a bit long to display inline. The python module is called `text_utils.py` and can be [downloaded here](text_utils.py)."
   ]
  },
  {
   "cell_type": "code",
   "execution_count": 2,
   "metadata": {
    "collapsed": true
   },
   "outputs": [],
   "source": [
    "import text_utils as tu  # shorthand for convenience"
   ]
  },
  {
   "cell_type": "markdown",
   "metadata": {},
   "source": [
    "Finally, we'll need to use the free [Twython library](https://github.com/ryanmcgrath/twython) to query Twitter's stream:"
   ]
  },
  {
   "cell_type": "code",
   "execution_count": 3,
   "metadata": {
    "collapsed": true
   },
   "outputs": [],
   "source": [
    "from twython import Twython\n",
    "# Create the main Twitter object we'll use later for all queries\n",
    "APP_KEY = 'PDm2Cs3hB9l353E8TUOtdg'\n",
    "APP_SECRET = 'OVtW0wYbWaONUmXhjFNXWMl0lWSlNNETPnTZ1ZT7o'\n",
    "\n",
    "twitter = Twython(APP_KEY, APP_SECRET)"
   ]
  },
  {
   "cell_type": "markdown",
   "metadata": {},
   "source": [
    "## Query declaration"
   ]
  },
  {
   "cell_type": "markdown",
   "metadata": {},
   "source": [
    "Here we define which query we want to perform, as well as which words we want to filter out from our analysis because they appear very commonly and we're not interested in them.  \n",
    "\n",
    "Typically you want to run the query once, and after seeing what comes out, fine-tune the removal list, as which words are 'noise' is fairly query-specific (and also changes over time, depending on what's happening out there on Twitter):"
   ]
  },
  {
   "cell_type": "code",
   "execution_count": 25,
   "metadata": {
    "collapsed": false
   },
   "outputs": [],
   "source": [
    "# query = \"Україна\"\n",
    "# words_to_remove = query + \"\"\"за на та що таки і при За На Та Що І При\"\"\"\n",
    "# locale = \"lang:uk\"\n",
    "\n",
    "query = \"big data\"\n",
    "words_to_remove = \"\"\"with some your just have from it's /via &amp; that they your there this\"\"\"\n",
    "locale = \"lang:en\""
   ]
  },
  {
   "cell_type": "markdown",
   "metadata": {},
   "source": [
    "## Perform query to Twitter servers"
   ]
  },
  {
   "cell_type": "markdown",
   "metadata": {},
   "source": [
    "This is the cell that actually fetches data from Twitter.  We limit the output to the first 30 pages of search max (typically Twitter stops returning results before that)."
   ]
  },
  {
   "cell_type": "code",
   "execution_count": 27,
   "metadata": {
    "collapsed": false
   },
   "outputs": [
    {
     "name": "stdout",
     "output_type": "stream",
     "text": [
      "query:    big data\n",
      "results:  41\n",
      "retweets: 59\n",
      "Variable `tweets` has a list of all the tweet texts\n",
      "tweets:  41\n",
      "Remove duplicates from spam bots\n",
      "tweets:  41\n",
      "retweets:  46\n"
     ]
    }
   ],
   "source": [
    "results = []\n",
    "retweets = []\n",
    "\n",
    "search = twitter.search(q=query+' '+locale, count=300)\n",
    "# search = twitter.search(q=query+' lang:uk')\n",
    "\n",
    "res = search['statuses']\n",
    "\n",
    "for t in res:\n",
    "    if t['text'].startswith('RT '):\n",
    "        retweets.append(t)\n",
    "    else:\n",
    "        results.append(t)\n",
    "            \n",
    "tweets = [t['text'] for t in results]\n",
    "\n",
    "# Quick summary\n",
    "print 'query:   ', query\n",
    "print 'results: ', len(results)\n",
    "print 'retweets:', len(retweets)\n",
    "print 'Variable `tweets` has a list of all the tweet texts'\n",
    "print 'tweets: ', len(tweets)\n",
    "\n",
    "print 'Remove duplicates from spam bots'\n",
    "tweets = list(set( [t['text'] for t in results] ))\n",
    "retweets = list(set( [t['text'] for t in retweets] ))\n",
    "\n",
    "print 'tweets: ', len(tweets)\n",
    "print 'retweets: ', len(retweets)\n",
    "\n",
    "# update results\n",
    "tmp = results\n",
    "results = []\n",
    "for tweet in tmp:\n",
    "    if tweet[\"text\"] in tweets: results.append(tweet)\n",
    "        "
   ]
  },
  {
   "cell_type": "markdown",
   "metadata": {},
   "source": [
    "Let's see what the first 10 tweets look like:"
   ]
  },
  {
   "cell_type": "code",
   "execution_count": 28,
   "metadata": {
    "collapsed": false
   },
   "outputs": [
    {
     "name": "stdout",
     "output_type": "stream",
     "text": [
      "[\" BIG question in the room, is 'What do Architects actually want from objects' Data only?  #BIM4M2help\",\n",
      "\"Research and Markets: Japan Big Data Market Report 2015: Market is expected - Business Wire (press release)... http://t.co/8keBEDdd6e\",\n",
      "\"Take Solutions forms US subsidiary for big data in life sciences industry - Take Solutions Ltd, the... http://t.co/Mkq4Uvdedy\",\n",
      "\"#BigData in the Real World: #Hadoop for #Health Care http://t.co/rsMeVQ6oHw via @Syncsort\",\n",
      "\"Big Data, IoT, Cloud Confidence Growing in Digital Marketing - http://t.co/oQBWEJFImf\",\n",
      "\"Find out from @XeroxCorp why your #SmallBiz should embrace #BigData: http://t.co/P5Gb4www4F http://t.co/fWs7JeSjcZ\",\n",
      "\"How big is big data – and what can I do with it? | Information Age https://t.co/YZTDXUIXnA\",\n",
      "\"Interesting talk on Deep Learning: Intelligence from Big Data to Business Intelligence.  https://t.co/9mp8zw3lT6\",\n",
      "\"Toys and Big Data [@JimKaskade] ▸ http://t.co/D6CjvMnQER #BigData #IoT #M2M #API #Wearables #InternetOfThings\",\n",
      "\"Find out from @XeroxCorp why your #SmallBiz should embrace #BigData: http://t.co/niJ5PUVcEh http://t.co/vubdqmdvyF \"]\n"
     ]
    }
   ],
   "source": [
    "# tweets[:10]\n",
    "\n",
    "# Unicode repr:\n",
    "r = '\",\\n\"'.join(tweets[:10])\n",
    "print '[\"', r, '\"]'"
   ]
  },
  {
   "cell_type": "markdown",
   "metadata": {},
   "source": [
    "## Text statistics"
   ]
  },
  {
   "cell_type": "markdown",
   "metadata": {},
   "source": [
    "Now we do some cleanup of the common words above, so that we can then compute some basic statistics:"
   ]
  },
  {
   "cell_type": "code",
   "execution_count": 29,
   "metadata": {
    "collapsed": false
   },
   "outputs": [
    {
     "name": "stdout",
     "output_type": "stream",
     "text": [
      "[\" liked\",\n",
      "\"@youtube\",\n",
      "\"video\",\n",
      "\"@thiruwin\",\n",
      "\"http://t.co/wcm2esmwrf\",\n",
      "\"analytics\",\n",
      "\"training\",\n",
      "\"chennai\",\n",
      "\"will\",\n",
      "\"away\",\n",
      "\"soon\",\n",
      "\"http://t.co/rgudw2r5fs\",\n",
      "\"@markwschaefer\",\n",
      "\"overcome\",\n",
      "\"roadblocks\",\n",
      "\"enhance\",\n",
      "\"digital\",\n",
      "\"marketing\",\n",
      "\"projects\",\n",
      "\"processes\",\n",
      "\"operations\",\n",
      "\"http://t.co/upjt4cba2k\",\n",
      "\"http://t.co/oy9ubar7gu\",\n",
      "\"toys\",\n",
      "\"@jimkaskade\",\n",
      "\"http://t.co/d6cjvmnqer\",\n",
      "\"#iot\",\n",
      "\"#m2m\",\n",
      "\"#api\",\n",
      "\"#wearables\",\n",
      "\"#internetofthings\",\n",
      "\"question\",\n",
      "\"room\",\n",
      "\"'what\",\n",
      "\"architects\",\n",
      "\"actually\",\n",
      "\"want\",\n",
      "\"objects'\",\n",
      "\"only?\",\n",
      "\"#bim4m2help\",\n",
      "\"real\",\n",
      "\"world\",\n",
      "\"#hadoop\",\n",
      "\"#health\",\n",
      "\"care\",\n",
      "\"http://t.co/rsmevq6ohw\",\n",
      "\"@syncsort\",\n",
      "\"it’s\",\n",
      "\"@jonmhellercfa\",\n",
      "\"$prxi\",\n",
      "\"http://t.co/uwtlzbqwgv\",\n",
      "\"#hardtech\",\n",
      "\"cloud\",\n",
      "\"confidence\",\n",
      "\"growing\",\n",
      "\"digital\",\n",
      "\"marketing\",\n",
      "\"http://t.co/ncsglqlovo\",\n",
      "\"#iot\",\n",
      "\"things\",\n",
      "\"#cios\",\n",
      "\"should\",\n",
      "\"stay\",\n",
      "\"relevant\",\n",
      "\"digital\",\n",
      "\"economy\",\n",
      "\"http://t.co/sfrzoepvqf\",\n",
      "\"ever\",\n",
      "\"takedown\",\n",
      "\"want\",\n",
      "\"dearly\",\n",
      "\"presented\",\n",
      "\"self\",\n",
      "\"http://t.co/mnbdbncfsj\",\n",
      "\"champion\",\n",
      "\"@noahpinion\",\n",
      "\".lisaarthur\",\n",
      "\"defines\",\n",
      "\"#datadriven\",\n",
      "\"marketing\",\n",
      "\"leanback_blog\",\n",
      "\"http://t.co/4uuxuzjwyo\",\n",
      "\"cloud\",\n",
      "\"confidence\",\n",
      "\"growing\",\n",
      "\"digital\",\n",
      "\"marketing\",\n",
      "\"http://t.co/oqbwejfimf\",\n",
      "\"research\",\n",
      "\"markets\",\n",
      "\"services\",\n",
      "\"market\",\n",
      "\"western\",\n",
      "\"europe\",\n",
      "\"2015-2019\",\n",
      "\"http://t.co/26dsctki3f\",\n",
      "\"\"our\",\n",
      "\"focus\",\n",
      "\"start\",\n",
      "\"bring\",\n",
      "\"masses\"\",\n",
      "\"https://t.co/ha6dg7ejyi\",\n",
      "\"#thecube\",\n",
      "\"#ibm\",\n",
      "\"#hadoop\",\n",
      "\"http://t.co/dgss3l4zmq\",\n",
      "\"deliver\",\n",
      "\"actionable\",\n",
      "\"insights\",\n",
      "\"streams\",\n",
      "\"http://t.co/vmuw5bihco\",\n",
      "\"http://t.co/p71bv81ky9\",\n",
      "\"emerging\",\n",
      "\"#vendors\",\n",
      "\"need\",\n",
      "\"know\",\n",
      "\"about\",\n",
      "\"http://t.co/xiwagqauyh\",\n",
      "\"actionable\",\n",
      "\"applications\",\n",
      "\"ultimate\",\n",
      "\"customer\",\n",
      "\"experience\",\n",
      "\"icrunchdata\",\n",
      "\"news\",\n",
      "\"http://t.co/2nxarofa2a\",\n",
      "\"adopting\",\n",
      "\"#manufacturing\",\n",
      "\"http://t.co/tkhidmy2oa\",\n",
      "\"http://t.co/k9ixhoxbnz\",\n",
      "\"http://t.co/e1nknafwry\",\n",
      "\"machine\",\n",
      "\"learning\",\n",
      "\"retailers\",\n",
      "\"need\",\n",
      "\"embrace\",\n",
      "\"latest\",\n",
      "\"tech\",\n",
      "\"fall\",\n",
      "\"behind\",\n",
      "\"https://t.co/lluetexwjh\",\n",
      "\"cloud\",\n",
      "\"confidence\",\n",
      "\"growing\",\n",
      "\"digital\",\n",
      "\"marketing\",\n",
      "\"channel\",\n",
      "\"channel\",\n",
      "\"partners\",\n",
      "\"http://t.co/t5dmptdgt2\",\n",
      "\"data/business\",\n",
      "\"intelligence\",\n",
      "\"emerging\",\n",
      "\"vendors\",\n",
      "\"need\",\n",
      "\"know\",\n",
      "\"about\",\n",
      "\"http://t.co/fufpoc5zpe\",\n",
      "\"video\",\n",
      "\"20131016\",\n",
      "\"judd\",\n",
      "\"antin\",\n",
      "\"(facebook)\",\n",
      "\"http://t.co/wsoffkqu9f\",\n",
      "\"what\",\n",
      "\"information\",\n",
      "\"https://t.co/yztdxuixna\",\n",
      "\"spatial\",\n",
      "\"come\",\n",
      "\"https://t.co/mwayogak5k\",\n",
      "\"find\",\n",
      "\"@xeroxcorp\",\n",
      "\"#smallbiz\",\n",
      "\"should\",\n",
      "\"embrace\",\n",
      "\"http://t.co/nij5puvceh\",\n",
      "\"http://t.co/vubdqmdvyf\",\n",
      "\"find\",\n",
      "\"@xeroxcorp\",\n",
      "\"#smallbiz\",\n",
      "\"should\",\n",
      "\"embrace\",\n",
      "\"http://t.co/p5gb4www4f\",\n",
      "\"http://t.co/fws7jesjcz\",\n",
      "\"interesting\",\n",
      "\"talk\",\n",
      "\"deep\",\n",
      "\"learning\",\n",
      "\"intelligence\",\n",
      "\"business\",\n",
      "\"intelligence\",\n",
      "\"https://t.co/9mp8zw3lt6\",\n",
      "\"#hardtech\",\n",
      "\"cloud\",\n",
      "\"confidence\",\n",
      "\"growing\",\n",
      "\"digital\",\n",
      "\"marketing\",\n",
      "\"http://t.co/3poivi2wi1\",\n",
      "\"#iot\",\n",
      "\"kobbydon\",\n",
      "\"@rahuldev555-rt\",\n",
      "\"@dezyreonline\",\n",
      "\"turning\",\n",
      "\"success\",\n",
      "\"http://t.co/imoorjpx4m\",\n",
      "\"\"@algories\",\n",
      "\"veteran\",\n",
      "\"@brunoaziza\",\n",
      "\"chief\",\n",
      "\"marketing\",\n",
      "\"officer\",\n",
      "\"@atscale\",\n",
      "\"which\",\n",
      "\"connects\",\n",
      "\"tools\",\n",
      "\"#hadoop\",\n",
      "\"http://t.co/0c1raoakdw\"\",\n",
      "\"kobbydon\",\n",
      "\"@rahuldev555-rt\",\n",
      "\"@dezyreonline\",\n",
      "\"turning\",\n",
      "\"success\",\n",
      "\"http://t.co/f6raywklaj\",\n",
      "\"deletion\",\n",
      "\"difficult\",\n",
      "\"replication\",\n",
      "\"https://t.co/twsnzbaas4\",\n",
      "\"using\",\n",
      "\"fight\",\n",
      "\"chronic\",\n",
      "\"diseases\",\n",
      "\"@themmailonline\",\n",
      "\"http://t.co/5twrcehysm\",\n",
      "\"#charities\",\n",
      "\"using\",\n",
      "\"make\",\n",
      "\"changes\",\n",
      "\"guide\",\n",
      "\"@huffpostuktech\",\n",
      "\"@doublemacc\",\n",
      "\"http://t.co/bzbl1gkdx7\",\n",
      "\"take\",\n",
      "\"solutions\",\n",
      "\"forms\",\n",
      "\"subsidiary\",\n",
      "\"life\",\n",
      "\"sciences\",\n",
      "\"industry\",\n",
      "\"take\",\n",
      "\"solutions\",\n",
      "\"http://t.co/mkq4uvdedy\",\n",
      "\"digital\",\n",
      "\"marketing\",\n",
      "\"driving\",\n",
      "\"cloud\",\n",
      "\"survey\",\n",
      "\"digital\",\n",
      "\"marketing\",\n",
      "\"programs\",\n",
      "\"driving\",\n",
      "\"adoption\",\n",
      "\"http://t.co/hxlmugjjoq\",\n",
      "\"research\",\n",
      "\"markets\",\n",
      "\"japan\",\n",
      "\"market\",\n",
      "\"report\",\n",
      "\"2015\",\n",
      "\"market\",\n",
      "\"expected\",\n",
      "\"business\",\n",
      "\"wire\",\n",
      "\"(press\",\n",
      "\"release)\",\n",
      "\"http://t.co/8kebeddd6e\",\n",
      "\"job:hadoop\",\n",
      "\"developer\",\n",
      "\"description\",\n",
      "\"develop\",\n",
      "\"solutions\",\n",
      "\"hadoop\",\n",
      "\"platform\",\n",
      "\"leveraging\",\n",
      "\"current\",\n",
      "\"ecosystem\",\n",
      "\"tools\",\n",
      "\"\"driving\",\n",
      "\"in-memory\",\n",
      "\"warehousing\",\n",
      "\"into\",\n",
      "\"cloud\"\",\n",
      "\"http://t.co/40xkhiiey5\",\n",
      "\"#ibm\",\n",
      "\"combining\",\n",
      "\"crowd\",\n",
      "\"intelligence\",\n",
      "\"will\",\n",
      "\"predictive\",\n",
      "\"policing\",\n",
      "\"http://t.co/cluah0nkfa\",\n",
      "\"@business\",\n",
      "\"@mjw \"]\n"
     ]
    }
   ],
   "source": [
    "remove = tu.removal_set(words_to_remove, query)\n",
    "lines = tu.lines_cleanup([tweet['text'].encode('utf-8') for tweet in results], remove=remove)\n",
    "words = '\\n'.join(lines).split()\n",
    "# print words\n",
    "\n",
    "# Unicode repr:\n",
    "r = '\",\\n\"'.join(words)\n",
    "print '[\"', r, '\"]'"
   ]
  },
  {
   "cell_type": "markdown",
   "metadata": {},
   "source": [
    "Compute frequency histogram:"
   ]
  },
  {
   "cell_type": "code",
   "execution_count": 30,
   "metadata": {
    "collapsed": false
   },
   "outputs": [],
   "source": [
    "wf = tu.word_freq(words)\n",
    "sorted_wf = tu.sort_freqs(wf)"
   ]
  },
  {
   "cell_type": "markdown",
   "metadata": {},
   "source": [
    "Let's look at a summary of the word frequencies from this dataset:"
   ]
  },
  {
   "cell_type": "code",
   "execution_count": 31,
   "metadata": {
    "collapsed": false
   },
   "outputs": [
    {
     "name": "stdout",
     "output_type": "stream",
     "text": [
      "Number of unique words: 235\n",
      "\n",
      "10 least frequent words:\n",
      "            operations -> 1\n",
      "http://t.co/8kebeddd6e -> 1\n",
      "http://t.co/hxlmugjjoq -> 1\n",
      "            \"@algories -> 1\n",
      "                  fall -> 1\n",
      "                  #api -> 1\n",
      "                  soon -> 1\n",
      "                 bring -> 1\n",
      "http://t.co/p5gb4www4f -> 1\n",
      "           @jimkaskade -> 1\n",
      "\n",
      "10 most frequent words:\n",
      "     #hadoop -> 3\n",
      "     embrace -> 3\n",
      "   solutions -> 3\n",
      "        need -> 3\n",
      "intelligence -> 4\n",
      "  confidence -> 4\n",
      "     growing -> 4\n",
      "       cloud -> 5\n",
      "     digital -> 8\n",
      "   marketing -> 9\n"
     ]
    }
   ],
   "source": [
    "tu.summarize_freq_hist(sorted_wf)"
   ]
  },
  {
   "cell_type": "markdown",
   "metadata": {},
   "source": [
    "Now we can plot the histogram of the `n_words` most frequent words:"
   ]
  },
  {
   "cell_type": "code",
   "execution_count": 32,
   "metadata": {
    "collapsed": false
   },
   "outputs": [
    {
     "data": {
      "image/png": "[encoded data removed]",
      "text/plain": [
       "<matplotlib.figure.Figure at 0x7f60a00f1350>"
      ]
     },
     "metadata": {},
     "output_type": "display_data"
    }
   ],
   "source": [
    "n_words = 10\n",
    "u_sorted_wf = []\n",
    "\n",
    "for word, n in sorted_wf:\n",
    "    u_sorted_wf.append((word.decode('utf-8'), n))\n",
    "\n",
    "# print u_sorted_wf\n",
    "tu.plot_word_histogram(u_sorted_wf, n_words,\"Frequencies for %s most frequent words\" % n_words);"
   ]
  },
  {
   "cell_type": "markdown",
   "metadata": {},
   "source": [
    "Above we trimmed the historgram to only show `n_words` because the distribution is very sharply peaked; this is what the histogram for the whole word list looks like:"
   ]
  },
  {
   "cell_type": "code",
   "execution_count": 33,
   "metadata": {
    "collapsed": false
   },
   "outputs": [
    {
     "data": {
      "image/png": "[encoded data removed]",
      "text/plain": [
       "<matplotlib.figure.Figure at 0x7f60a00f11d0>"
      ]
     },
     "metadata": {},
     "output_type": "display_data"
    }
   ],
   "source": [
    "tu.plot_word_histogram(u_sorted_wf, 1.0, \"Frequencies for entire word list\");"
   ]
  },
  {
   "cell_type": "markdown",
   "metadata": {},
   "source": [
    "## Co-occurrence graph"
   ]
  },
  {
   "cell_type": "markdown",
   "metadata": {},
   "source": [
    "An interesting question to ask is: which pairs of words co-occur in the same tweets?  We can find these relations and use them to construct a graph, which we can then analyze with NetworkX and plot with Matplotlib.\n",
    "\n",
    "We limit the graph to have at most `n_nodes` (for the most frequent words) just to keep the visualization easier to read."
   ]
  },
  {
   "cell_type": "code",
   "execution_count": 34,
   "metadata": {
    "collapsed": false
   },
   "outputs": [],
   "source": [
    "n_nodes = 10\n",
    "popular = u_sorted_wf[-n_nodes:]\n",
    "pop_words = [wc[0] for wc in popular]\n",
    "co_occur = tu.co_occurrences(lines, pop_words)\n",
    "wgraph = tu.co_occurrences_graph(popular, co_occur, cutoff=1)\n",
    "wgraph = sorted(nx.connected_component_subgraphs(wgraph))[0]"
   ]
  },
  {
   "cell_type": "markdown",
   "metadata": {},
   "source": [
    "An interesting summary of the graph structure can be obtained by ranking nodes based on a centrality measure.  NetworkX offers several centrality measures, in this case we look at the [Eigenvector Centrality](http://networkx.lanl.gov/reference/generated/networkx.algorithms.centrality.eigenvector_centrality.html#networkx.algorithms.centrality.eigenvector_centrality):"
   ]
  },
  {
   "cell_type": "code",
   "execution_count": 35,
   "metadata": {
    "collapsed": false
   },
   "outputs": [
    {
     "name": "stdout",
     "output_type": "stream",
     "text": [
      "\n",
      "Graph centrality\n",
      "        digital: 0.476\n",
      "      marketing: 0.476\n",
      "          cloud: 0.455\n",
      "        growing: 0.411\n",
      "     confidence: 0.411\n"
     ]
    }
   ],
   "source": [
    "centrality = nx.eigenvector_centrality_numpy(wgraph)\n",
    "tu.summarize_centrality(centrality)"
   ]
  },
  {
   "cell_type": "markdown",
   "metadata": {},
   "source": [
    "And we can use this measure to provide an interesting view of the structure of our query dataset:"
   ]
  },
  {
   "cell_type": "code",
   "execution_count": 36,
   "metadata": {
    "collapsed": false
   },
   "outputs": [
    {
     "name": "stdout",
     "output_type": "stream",
     "text": [
      "Graph visualization for query: big data\n"
     ]
    },
    {
     "name": "stderr",
     "output_type": "stream",
     "text": [
      "/home/cosname/.pyenv/versions/2.7.9/lib/python2.7/site-packages/matplotlib/text.py:52: UnicodeWarning: Unicode equal comparison failed to convert both arguments to Unicode - interpreting them as being unequal\n",
      "  if rotation in ('horizontal', None):\n",
      "/home/cosname/.pyenv/versions/2.7.9/lib/python2.7/site-packages/matplotlib/text.py:54: UnicodeWarning: Unicode equal comparison failed to convert both arguments to Unicode - interpreting them as being unequal\n",
      "  elif rotation == 'vertical':\n"
     ]
    },
    {
     "data": {
      "image/png": "[encoded data removed]",
      "text/plain": [
       "<matplotlib.figure.Figure at 0x7f609fb2e250>"
      ]
     },
     "metadata": {},
     "output_type": "display_data"
    }
   ],
   "source": [
    "print \"Graph visualization for query:\", query\n",
    "tu.plot_graph(wgraph, tu.centrality_layout(wgraph, centrality), plt.figure(figsize=(8,8)),\n",
    "    title='Centrality and term co-occurrence graph, q=\"%s\"' % query)"
   ]
  },
  {
   "cell_type": "code",
   "execution_count": null,
   "metadata": {
    "collapsed": true
   },
   "outputs": [],
   "source": []
  }
 ],
 "metadata": {
  "kernelspec": {
   "display_name": "Python 2",
   "language": "python",
   "name": "python2"
  },
  "language_info": {
   "codemirror_mode": {
    "name": "ipython",
    "version": 2
   },
   "file_extension": ".py",
   "mimetype": "text/x-python",
   "name": "python",
   "nbconvert_exporter": "python",
   "pygments_lexer": "ipython2",
   "version": "2.7.9"
  }
 },
 "nbformat": 4,
 "nbformat_minor": 0
}
