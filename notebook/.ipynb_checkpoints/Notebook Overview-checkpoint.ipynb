{
 "cells": [
  {
   "cell_type": "markdown",
   "metadata": {},
   "source": [
    "<span style=\"font-size:50%;\">Edit presentation style here</span>\n",
    "<style>.rendered_html {font-size: 150%;}</style>"
   ]
  },
  {
   "cell_type": "markdown",
   "metadata": {},
   "source": [
    "# An Overview of the IPython Notebook"
   ]
  },
  {
   "cell_type": "markdown",
   "metadata": {},
   "source": [
    "The IPython development team"
   ]
  },
  {
   "cell_type": "markdown",
   "metadata": {},
   "source": [
    "## Motivation"
   ]
  },
  {
   "cell_type": "markdown",
   "metadata": {},
   "source": [
    "Scientific and technical computing is about more than just code and data.  \n",
    "\n",
    "It is about telling **stories** using code and data.\n",
    "\n",
    "These stories include other types of content:\n",
    "\n",
    "* Narrative text\n",
    "* Images and video\n",
    "* Equations\n",
    "* Plots and other visualizations"
   ]
  },
  {
   "cell_type": "markdown",
   "metadata": {},
   "source": [
    "We go through different phases as we tell these stories:\n",
    "\n",
    "* Individual exploration\n",
    "* Collaborative development\n",
    "* Production execution\n",
    "* Debugging\n",
    "* Publication\n",
    "* Presentation\n",
    "* Education"
   ]
  },
  {
   "cell_type": "markdown",
   "metadata": {},
   "source": [
    "We need to tell these stories in different contexts:\n",
    "\n",
    "* In collaboration with colleagues\n",
    "* In written publications\n",
    "* In talks/presentations\n",
    "* In the classroom\n",
    "* In meetings\n",
    "* In boardrooms\n",
    "* On the internet"
   ]
  },
  {
   "cell_type": "markdown",
   "metadata": {},
   "source": [
    "## What is the IPython Notebook?"
   ]
  },
  {
   "cell_type": "markdown",
   "metadata": {},
   "source": [
    "A tool for telling **stories** with computations that are:\n",
    "\n",
    "* Interactive\n",
    "* Exploratory\n",
    "* Collaborative\n",
    "* Open\n",
    "* Reproducible"
   ]
  },
  {
   "cell_type": "markdown",
   "metadata": {},
   "source": [
    "### An open, JSON based document format"
   ]
  },
  {
   "cell_type": "code",
   "execution_count": 1,
   "metadata": {
    "collapsed": false
   },
   "outputs": [
    {
     "name": "stderr",
     "output_type": "stream",
     "text": [
      "/home/cosname/.pyenv/versions/2.7.9/lib/python2.7/site-packages/IPython/nbformat/current.py:19: UserWarning: IPython.nbformat.current is deprecated.\n",
      "\n",
      "- use IPython.nbformat for read/write/validate public API\n",
      "- use IPython.nbformat.vX directly to composing notebooks of a particular version\n",
      "\n",
      "  \"\"\")\n"
     ]
    }
   ],
   "source": [
    "from IPython.nbformat import current\n",
    "with open('Notebook Overview.ipynb') as f:\n",
    "    nb = current.read(f,'json')"
   ]
  },
  {
   "cell_type": "code",
   "execution_count": 6,
   "metadata": {
    "collapsed": false
   },
   "outputs": [
    {
     "data": {
      "text/plain": [
       "[{u'cell_type': u'markdown',\n",
       "  u'metadata': {},\n",
       "  u'source': u'<span style=\"font-size:50%;\">Edit presentation style here</span>\\n<style>.rendered_html {font-size: 150%;}</style>'},\n",
       " {u'cell_type': u'markdown',\n",
       "  u'metadata': {},\n",
       "  u'source': u'<img src=\"/files/figures/logo.png\" />'},\n",
       " {u'cell_type': u'heading',\n",
       "  u'level': 1,\n",
       "  u'metadata': {},\n",
       "  u'source': u'An Overview of the IPython Notebook'},\n",
       " {u'cell_type': u'markdown',\n",
       "  u'metadata': {},\n",
       "  u'source': u'The IPython development team'},\n",
       " {u'cell_type': u'heading',\n",
       "  u'level': 2,\n",
       "  u'metadata': {},\n",
       "  u'source': u'Motivation'}]"
      ]
     },
     "execution_count": 6,
     "metadata": {},
     "output_type": "execute_result"
    }
   ],
   "source": [
    "nb.worksheets[0].cells[0:5]"
   ]
  },
  {
   "cell_type": "markdown",
   "metadata": {},
   "source": [
    "These Notebook documents:\n",
    "\n",
    "* Are stored as files in your local directory\n",
    "* Can store:\n",
    "    - Code\n",
    "    - Text (Markdown)\n",
    "    - Equations (LaTeX)\n",
    "    - Images\n",
    "    - Links to video\n",
    "    - HTML\n",
    "* Can be version controlled.\n",
    "    - Change 1 line of code, get a 1 line diff.\n",
    "* Can be viewed by anyone online without IPython installed (<http://nbviewer.ipython.org/>)\n",
    "* Can be exported to HTML, Markdown, reStructured Text, LaTeX (WIP)."
   ]
  },
  {
   "cell_type": "markdown",
   "metadata": {},
   "source": [
    "### A web-based user interface for running code"
   ]
  },
  {
   "cell_type": "markdown",
   "metadata": {},
   "source": [
    "We try to make writing code pleasant:\n",
    "\n",
    "* Tab completion\n",
    "* Integrated help\n",
    "* Syntax highlighting\n",
    "* Interactive shorthands (aliases, magics)"
   ]
  },
  {
   "cell_type": "code",
   "execution_count": 6,
   "metadata": {
    "collapsed": false
   },
   "outputs": [
    {
     "name": "stdout",
     "output_type": "stream",
     "text": [
      "\n",
      "Welcome to pylab, a matplotlib-based Python environment [backend: module://IPython.zmq.pylab.backend_inline].\n",
      "For more information, type 'help(pylab)'.\n"
     ]
    }
   ],
   "source": [
    "%pylab inline"
   ]
  },
  {
   "cell_type": "code",
   "execution_count": 13,
   "metadata": {
    "collapsed": false
   },
   "outputs": [
    {
     "data": {
      "text/plain": [
       "<matplotlib.text.Text at 0x7f22e93ca950>"
      ]
     },
     "execution_count": 13,
     "metadata": {},
     "output_type": "execute_result"
    },
    {
     "data": {
      "image/png": "[encoded data removed]",
      "text/plain": [
       "<matplotlib.figure.Figure at 0x7f22e9454c90>"
      ]
     },
     "metadata": {},
     "output_type": "display_data"
    }
   ],
   "source": [
    "# Рішення для кирилиці, правильний шрифт котрий підтримує її:\n",
    "font = {'family': 'Verdana',\n",
    "        'weight': 'normal'}\n",
    "rc('font', **font)\n",
    "\n",
    "plot(rand(100))\n",
    "title(u\"Приклад\")"
   ]
  },
  {
   "cell_type": "markdown",
   "metadata": {},
   "source": [
    "Not just Python code though! Though cell magics (`%%`) the Notebook supports running code in other languages:\n",
    "\n",
    "* R\n",
    "* Octave\n",
    "* Cython\n",
    "* Bash\n",
    "* Perl\n",
    "* Ruby\n",
    "* etc."
   ]
  },
  {
   "cell_type": "code",
   "execution_count": 10,
   "metadata": {
    "collapsed": false
   },
   "outputs": [
    {
     "name": "stdout",
     "output_type": "stream",
     "text": [
      "hi there\n"
     ]
    }
   ],
   "source": [
    "%%bash\n",
    "echo \"hi there\""
   ]
  },
  {
   "cell_type": "markdown",
   "metadata": {},
   "source": [
    "## Installation"
   ]
  },
  {
   "cell_type": "markdown",
   "metadata": {},
   "source": [
    "Requires:\n",
    "\n",
    "* Tornado\n",
    "* ZeroMQ/PyZMQ\n",
    "* Recent Chrome, Firefox, Safari (WebSockets, Flexible Box Model)\n",
    "* Matplotlib for plotting\n",
    "* Works out of the box on EPD, Anaconda\n",
    "* Optional LaTeX math support using MathJax\n",
    "    - Load from CDN\n",
    "    - Install locally (recommended)\n",
    "\n",
    "            from IPython.external.mathjax import install_mathjax\n",
    "            install_mathjax()"
   ]
  },
  {
   "cell_type": "markdown",
   "metadata": {},
   "source": [
    "## The Notebook server"
   ]
  },
  {
   "cell_type": "markdown",
   "metadata": {},
   "source": [
    "* Currently a single-user web application designed to be run on your local machine\n",
    "* Can be password protected and encrypted.  See our [docs](http://ipython.org/ipython-doc/dev/interactive/htmlnotebook.html#running-a-public-notebook-server).\n",
    "* cd to a directory where you have Notebooks and start the server.\n",
    "\n",
    "        $ cd my_notebook_dir\n",
    "$ ipython notebook\n",
    "\n",
    "* Use the `--script` tag to save `.py` versions of your Notebooks\n",
    "* Use the `--no-browser` flag to not start a browser automatically\n"
   ]
  },
  {
   "cell_type": "markdown",
   "metadata": {},
   "source": [
    "## The future"
   ]
  },
  {
   "cell_type": "markdown",
   "metadata": {},
   "source": [
    "* Full multiuser support\n",
    "* Multiple directory support\n",
    "* Interactive widgets\n",
    "* Improved notebook export support\n",
    "* Slide show mode\n",
    "* Editing of other file types"
   ]
  },
  {
   "cell_type": "code",
   "execution_count": null,
   "metadata": {
    "collapsed": false
   },
   "outputs": [],
   "source": []
  }
 ],
 "metadata": {
  "kernelspec": {
   "display_name": "Python 2",
   "language": "python",
   "name": "python2"
  },
  "language_info": {
   "codemirror_mode": {
    "name": "ipython",
    "version": 2
   },
   "file_extension": ".py",
   "mimetype": "text/x-python",
   "name": "python",
   "nbconvert_exporter": "python",
   "pygments_lexer": "ipython2",
   "version": "2.7.9"
  }
 },
 "nbformat": 4,
 "nbformat_minor": 0
}
